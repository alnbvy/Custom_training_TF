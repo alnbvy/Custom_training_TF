{
 "cells": [
  {
   "cell_type": "markdown",
   "metadata": {
    "colab_type": "text",
    "id": "ZL_6GK8qX35J"
   },
   "source": [
    "\n",
    "\n",
    "# Multiple Output Models using the Keras Functional API\n",
    "\n",
    " **[Wine Quality Dataset](https://archive.ics.uci.edu/ml/datasets/Wine+Quality)** from the **UCI machine learning repository**.\n"
   ]
  },
  {
   "cell_type": "markdown",
   "metadata": {
    "colab_type": "text",
    "id": "obdcD6urYBY9"
   },
   "source": [
    "## Imports"
   ]
  },
  {
   "cell_type": "code",
   "execution_count": 1,
   "metadata": {
    "colab": {},
    "colab_type": "code",
    "id": "t8N3pcTQ5oQI"
   },
   "outputs": [],
   "source": [
    "import tensorflow as tf\n",
    "from tensorflow.keras.models import Model\n",
    "from tensorflow.keras.layers import Dense, Input\n",
    "\n",
    "import numpy as np\n",
    "import matplotlib.pyplot as plt\n",
    "import pandas as pd\n",
    "from sklearn.model_selection import train_test_split\n",
    "from sklearn.metrics import confusion_matrix\n",
    "import itertools"
   ]
  },
  {
   "cell_type": "code",
   "execution_count": 2,
   "metadata": {
    "colab": {},
    "colab_type": "code",
    "deletable": false,
    "id": "2qYAjKXCd4RH",
    "nbgrader": {
     "cell_type": "code",
     "checksum": "325ea195519b7035934c95bb529a062c",
     "grade": false,
     "grade_id": "cell-e5bfa0f152d9a21f",
     "locked": false,
     "schema_version": 3,
     "solution": true,
     "task": false
    }
   },
   "outputs": [],
   "source": [
    "# URL of the white wine dataset\n",
    "URI = './winequality-white.csv'\n",
    "\n",
    "# load the dataset from the URL\n",
    "white_df = pd.read_csv(URI, sep=\";\")\n",
    "\n",
    "# fill the `is_red` column with zeros.\n",
    "white_df[\"is_red\"] = 0\n",
    "\n",
    "# keep only the first of duplicate items\n",
    "white_df = white_df.drop_duplicates(keep='first')"
   ]
  },
  {
   "cell_type": "code",
   "execution_count": 3,
   "metadata": {},
   "outputs": [
    {
     "data": {
      "text/html": [
       "<div>\n",
       "<style scoped>\n",
       "    .dataframe tbody tr th:only-of-type {\n",
       "        vertical-align: middle;\n",
       "    }\n",
       "\n",
       "    .dataframe tbody tr th {\n",
       "        vertical-align: top;\n",
       "    }\n",
       "\n",
       "    .dataframe thead th {\n",
       "        text-align: right;\n",
       "    }\n",
       "</style>\n",
       "<table border=\"1\" class=\"dataframe\">\n",
       "  <thead>\n",
       "    <tr style=\"text-align: right;\">\n",
       "      <th></th>\n",
       "      <th>fixed acidity</th>\n",
       "      <th>volatile acidity</th>\n",
       "      <th>citric acid</th>\n",
       "      <th>residual sugar</th>\n",
       "      <th>chlorides</th>\n",
       "      <th>free sulfur dioxide</th>\n",
       "      <th>total sulfur dioxide</th>\n",
       "      <th>density</th>\n",
       "      <th>pH</th>\n",
       "      <th>sulphates</th>\n",
       "      <th>alcohol</th>\n",
       "      <th>quality</th>\n",
       "      <th>is_red</th>\n",
       "    </tr>\n",
       "  </thead>\n",
       "  <tbody>\n",
       "    <tr>\n",
       "      <th>0</th>\n",
       "      <td>7.0</td>\n",
       "      <td>0.27</td>\n",
       "      <td>0.36</td>\n",
       "      <td>20.7</td>\n",
       "      <td>0.045</td>\n",
       "      <td>45.0</td>\n",
       "      <td>170.0</td>\n",
       "      <td>1.0010</td>\n",
       "      <td>3.00</td>\n",
       "      <td>0.45</td>\n",
       "      <td>8.8</td>\n",
       "      <td>6</td>\n",
       "      <td>0</td>\n",
       "    </tr>\n",
       "    <tr>\n",
       "      <th>1</th>\n",
       "      <td>6.3</td>\n",
       "      <td>0.30</td>\n",
       "      <td>0.34</td>\n",
       "      <td>1.6</td>\n",
       "      <td>0.049</td>\n",
       "      <td>14.0</td>\n",
       "      <td>132.0</td>\n",
       "      <td>0.9940</td>\n",
       "      <td>3.30</td>\n",
       "      <td>0.49</td>\n",
       "      <td>9.5</td>\n",
       "      <td>6</td>\n",
       "      <td>0</td>\n",
       "    </tr>\n",
       "    <tr>\n",
       "      <th>2</th>\n",
       "      <td>8.1</td>\n",
       "      <td>0.28</td>\n",
       "      <td>0.40</td>\n",
       "      <td>6.9</td>\n",
       "      <td>0.050</td>\n",
       "      <td>30.0</td>\n",
       "      <td>97.0</td>\n",
       "      <td>0.9951</td>\n",
       "      <td>3.26</td>\n",
       "      <td>0.44</td>\n",
       "      <td>10.1</td>\n",
       "      <td>6</td>\n",
       "      <td>0</td>\n",
       "    </tr>\n",
       "    <tr>\n",
       "      <th>3</th>\n",
       "      <td>7.2</td>\n",
       "      <td>0.23</td>\n",
       "      <td>0.32</td>\n",
       "      <td>8.5</td>\n",
       "      <td>0.058</td>\n",
       "      <td>47.0</td>\n",
       "      <td>186.0</td>\n",
       "      <td>0.9956</td>\n",
       "      <td>3.19</td>\n",
       "      <td>0.40</td>\n",
       "      <td>9.9</td>\n",
       "      <td>6</td>\n",
       "      <td>0</td>\n",
       "    </tr>\n",
       "    <tr>\n",
       "      <th>6</th>\n",
       "      <td>6.2</td>\n",
       "      <td>0.32</td>\n",
       "      <td>0.16</td>\n",
       "      <td>7.0</td>\n",
       "      <td>0.045</td>\n",
       "      <td>30.0</td>\n",
       "      <td>136.0</td>\n",
       "      <td>0.9949</td>\n",
       "      <td>3.18</td>\n",
       "      <td>0.47</td>\n",
       "      <td>9.6</td>\n",
       "      <td>6</td>\n",
       "      <td>0</td>\n",
       "    </tr>\n",
       "  </tbody>\n",
       "</table>\n",
       "</div>"
      ],
      "text/plain": [
       "   fixed acidity  volatile acidity  citric acid  residual sugar  chlorides  \\\n",
       "0            7.0              0.27         0.36            20.7      0.045   \n",
       "1            6.3              0.30         0.34             1.6      0.049   \n",
       "2            8.1              0.28         0.40             6.9      0.050   \n",
       "3            7.2              0.23         0.32             8.5      0.058   \n",
       "6            6.2              0.32         0.16             7.0      0.045   \n",
       "\n",
       "   free sulfur dioxide  total sulfur dioxide  density    pH  sulphates  \\\n",
       "0                 45.0                 170.0   1.0010  3.00       0.45   \n",
       "1                 14.0                 132.0   0.9940  3.30       0.49   \n",
       "2                 30.0                  97.0   0.9951  3.26       0.44   \n",
       "3                 47.0                 186.0   0.9956  3.19       0.40   \n",
       "6                 30.0                 136.0   0.9949  3.18       0.47   \n",
       "\n",
       "   alcohol  quality  is_red  \n",
       "0      8.8        6       0  \n",
       "1      9.5        6       0  \n",
       "2     10.1        6       0  \n",
       "3      9.9        6       0  \n",
       "6      9.6        6       0  "
      ]
     },
     "execution_count": 3,
     "metadata": {},
     "output_type": "execute_result"
    }
   ],
   "source": [
    "white_df.head()"
   ]
  },
  {
   "cell_type": "code",
   "execution_count": 4,
   "metadata": {
    "colab": {},
    "colab_type": "code",
    "id": "OQHK0ohBQRCk"
   },
   "outputs": [
    {
     "name": "stdout",
     "output_type": "stream",
     "text": [
      "8.8\n",
      "9.1\n"
     ]
    }
   ],
   "source": [
    "print(white_df.alcohol[0])\n",
    "print(white_df.alcohol[100])"
   ]
  },
  {
   "cell_type": "code",
   "execution_count": 5,
   "metadata": {
    "colab": {},
    "colab_type": "code",
    "deletable": false,
    "id": "8y3QxKwBed8v",
    "nbgrader": {
     "cell_type": "code",
     "checksum": "12e0963d15be33b01b4e6ebc8945e51e",
     "grade": false,
     "grade_id": "cell-e47a40f306593274",
     "locked": false,
     "schema_version": 3,
     "solution": true,
     "task": false
    }
   },
   "outputs": [],
   "source": [
    "# URL of the red wine dataset\n",
    "URI = './winequality-red.csv'\n",
    "\n",
    "# load the dataset from the URL\n",
    "red_df = pd.read_csv(URI, sep=\";\")\n",
    "\n",
    "# fill the `is_red` column with ones.\n",
    "red_df[\"is_red\"] = 1\n",
    "\n",
    "# keep only the first of duplicate items\n",
    "red_df = red_df.drop_duplicates(keep='first')\n"
   ]
  },
  {
   "cell_type": "code",
   "execution_count": 6,
   "metadata": {
    "colab": {},
    "colab_type": "code",
    "id": "zsB3LUzNQpo_"
   },
   "outputs": [
    {
     "name": "stdout",
     "output_type": "stream",
     "text": [
      "9.4\n",
      "10.2\n"
     ]
    }
   ],
   "source": [
    "print(red_df.alcohol[0])\n",
    "print(red_df.alcohol[100])\n"
   ]
  },
  {
   "cell_type": "code",
   "execution_count": 7,
   "metadata": {
    "colab": {},
    "colab_type": "code",
    "id": "YpQrOjJbfN3m"
   },
   "outputs": [],
   "source": [
    "df = pd.concat([red_df, white_df], ignore_index=True)"
   ]
  },
  {
   "cell_type": "code",
   "execution_count": 8,
   "metadata": {
    "colab": {},
    "colab_type": "code",
    "id": "Se2dTmThQyjb"
   },
   "outputs": [
    {
     "name": "stdout",
     "output_type": "stream",
     "text": [
      "9.4\n",
      "9.5\n"
     ]
    }
   ],
   "source": [
    "print(df.alcohol[0])\n",
    "print(df.alcohol[100])\n"
   ]
  },
  {
   "cell_type": "code",
   "execution_count": 9,
   "metadata": {
    "colab": {},
    "colab_type": "code",
    "id": "wx6y3rPpQv4k"
   },
   "outputs": [],
   "source": [
    "#df = df.iloc[np.random.permutation(len(df))]"
   ]
  },
  {
   "cell_type": "code",
   "execution_count": 10,
   "metadata": {
    "colab": {},
    "colab_type": "code",
    "id": "IsvK0-Sgy17C"
   },
   "outputs": [
    {
     "data": {
      "image/png": "[encoded data removed]",
      "text/plain": [
       "<Figure size 432x288 with 1 Axes>"
      ]
     },
     "metadata": {
      "needs_background": "light"
     },
     "output_type": "display_data"
    }
   ],
   "source": [
    "df['quality'].hist(bins=20);"
   ]
  },
  {
   "cell_type": "code",
   "execution_count": 11,
   "metadata": {},
   "outputs": [
    {
     "data": {
      "text/plain": [
       "count    5320.000000\n",
       "mean        5.795677\n",
       "std         0.879772\n",
       "min         3.000000\n",
       "25%         5.000000\n",
       "50%         6.000000\n",
       "75%         6.000000\n",
       "max         9.000000\n",
       "Name: quality, dtype: float64"
      ]
     },
     "execution_count": 11,
     "metadata": {},
     "output_type": "execute_result"
    }
   ],
   "source": [
    "df['quality'].describe()"
   ]
  },
  {
   "cell_type": "code",
   "execution_count": 12,
   "metadata": {
    "colab": {},
    "colab_type": "code",
    "deletable": false,
    "id": "doH9_-gnf3sz",
    "nbgrader": {
     "cell_type": "code",
     "checksum": "d9ba9fc3a3ca02ccc567be33652b80fe",
     "grade": false,
     "grade_id": "cell-6a3e9db696f6827b",
     "locked": false,
     "schema_version": 3,
     "solution": true,
     "task": false
    }
   },
   "outputs": [],
   "source": [
    "# get data with wine quality greater than 4 and less than 8\n",
    "df = df[(df['quality'] > 4) & (df['quality'] < 8 )]\n",
    "\n",
    "# reset index and drop the old one\n",
    "df = df.reset_index(drop=True)"
   ]
  },
  {
   "cell_type": "code",
   "execution_count": 13,
   "metadata": {
    "colab": {},
    "colab_type": "code",
    "id": "xNR1iAlMRPXO"
   },
   "outputs": [
    {
     "name": "stdout",
     "output_type": "stream",
     "text": [
      "9.4\n",
      "10.9\n"
     ]
    }
   ],
   "source": [
    "print(df.alcohol[0])\n",
    "print(df.alcohol[100])"
   ]
  },
  {
   "cell_type": "code",
   "execution_count": 14,
   "metadata": {
    "colab": {},
    "colab_type": "code",
    "id": "857ygzZiLgGg"
   },
   "outputs": [
    {
     "data": {
      "image/png": "[encoded data removed]",
      "text/plain": [
       "<Figure size 432x288 with 1 Axes>"
      ]
     },
     "metadata": {
      "needs_background": "light"
     },
     "output_type": "display_data"
    }
   ],
   "source": [
    "df['quality'].hist(bins=20);"
   ]
  },
  {
   "cell_type": "code",
   "execution_count": 15,
   "metadata": {
    "colab": {},
    "colab_type": "code",
    "deletable": false,
    "id": "PAVIf2-fgRVY",
    "nbgrader": {
     "cell_type": "code",
     "checksum": "7f5738f4fb51d65adc9a8acbdf2b9970",
     "grade": false,
     "grade_id": "cell-91946cadf745206b",
     "locked": false,
     "schema_version": 3,
     "solution": true,
     "task": false
    }
   },
   "outputs": [],
   "source": [
    "# split df into 80:20 train and test sets\n",
    "train, test = train_test_split(df, test_size=0.2, random_state = 1)\n",
    "                               \n",
    "# split train into 80:20 train and val sets\n",
    "train, val = train_test_split(train, test_size=0.2, random_state = 1)"
   ]
  },
  {
   "cell_type": "code",
   "execution_count": 16,
   "metadata": {
    "colab": {},
    "colab_type": "code",
    "id": "Y_afyhhHM6WQ"
   },
   "outputs": [],
   "source": [
    "train_stats = train.describe()\n",
    "train_stats.pop('is_red')\n",
    "train_stats.pop('quality')\n",
    "train_stats = train_stats.transpose()"
   ]
  },
  {
   "cell_type": "code",
   "execution_count": 17,
   "metadata": {
    "colab": {},
    "colab_type": "code",
    "id": "n_gAtPjZ0otF"
   },
   "outputs": [
    {
     "data": {
      "text/html": [
       "<div>\n",
       "<style scoped>\n",
       "    .dataframe tbody tr th:only-of-type {\n",
       "        vertical-align: middle;\n",
       "    }\n",
       "\n",
       "    .dataframe tbody tr th {\n",
       "        vertical-align: top;\n",
       "    }\n",
       "\n",
       "    .dataframe thead th {\n",
       "        text-align: right;\n",
       "    }\n",
       "</style>\n",
       "<table border=\"1\" class=\"dataframe\">\n",
       "  <thead>\n",
       "    <tr style=\"text-align: right;\">\n",
       "      <th></th>\n",
       "      <th>count</th>\n",
       "      <th>mean</th>\n",
       "      <th>std</th>\n",
       "      <th>min</th>\n",
       "      <th>25%</th>\n",
       "      <th>50%</th>\n",
       "      <th>75%</th>\n",
       "      <th>max</th>\n",
       "    </tr>\n",
       "  </thead>\n",
       "  <tbody>\n",
       "    <tr>\n",
       "      <th>fixed acidity</th>\n",
       "      <td>3155.0</td>\n",
       "      <td>7.221616</td>\n",
       "      <td>1.325297</td>\n",
       "      <td>3.80000</td>\n",
       "      <td>6.40000</td>\n",
       "      <td>7.00000</td>\n",
       "      <td>7.7000</td>\n",
       "      <td>15.60000</td>\n",
       "    </tr>\n",
       "    <tr>\n",
       "      <th>volatile acidity</th>\n",
       "      <td>3155.0</td>\n",
       "      <td>0.338929</td>\n",
       "      <td>0.162476</td>\n",
       "      <td>0.08000</td>\n",
       "      <td>0.23000</td>\n",
       "      <td>0.29000</td>\n",
       "      <td>0.4000</td>\n",
       "      <td>1.24000</td>\n",
       "    </tr>\n",
       "    <tr>\n",
       "      <th>citric acid</th>\n",
       "      <td>3155.0</td>\n",
       "      <td>0.321569</td>\n",
       "      <td>0.147970</td>\n",
       "      <td>0.00000</td>\n",
       "      <td>0.25000</td>\n",
       "      <td>0.31000</td>\n",
       "      <td>0.4000</td>\n",
       "      <td>1.66000</td>\n",
       "    </tr>\n",
       "    <tr>\n",
       "      <th>residual sugar</th>\n",
       "      <td>3155.0</td>\n",
       "      <td>5.155911</td>\n",
       "      <td>4.639632</td>\n",
       "      <td>0.60000</td>\n",
       "      <td>1.80000</td>\n",
       "      <td>2.80000</td>\n",
       "      <td>7.6500</td>\n",
       "      <td>65.80000</td>\n",
       "    </tr>\n",
       "    <tr>\n",
       "      <th>chlorides</th>\n",
       "      <td>3155.0</td>\n",
       "      <td>0.056976</td>\n",
       "      <td>0.036802</td>\n",
       "      <td>0.01200</td>\n",
       "      <td>0.03800</td>\n",
       "      <td>0.04700</td>\n",
       "      <td>0.0660</td>\n",
       "      <td>0.61100</td>\n",
       "    </tr>\n",
       "    <tr>\n",
       "      <th>free sulfur dioxide</th>\n",
       "      <td>3155.0</td>\n",
       "      <td>30.388590</td>\n",
       "      <td>17.236784</td>\n",
       "      <td>1.00000</td>\n",
       "      <td>17.00000</td>\n",
       "      <td>28.00000</td>\n",
       "      <td>41.0000</td>\n",
       "      <td>131.00000</td>\n",
       "    </tr>\n",
       "    <tr>\n",
       "      <th>total sulfur dioxide</th>\n",
       "      <td>3155.0</td>\n",
       "      <td>115.062282</td>\n",
       "      <td>56.706617</td>\n",
       "      <td>6.00000</td>\n",
       "      <td>75.00000</td>\n",
       "      <td>117.00000</td>\n",
       "      <td>156.0000</td>\n",
       "      <td>344.00000</td>\n",
       "    </tr>\n",
       "    <tr>\n",
       "      <th>density</th>\n",
       "      <td>3155.0</td>\n",
       "      <td>0.994633</td>\n",
       "      <td>0.003005</td>\n",
       "      <td>0.98711</td>\n",
       "      <td>0.99232</td>\n",
       "      <td>0.99481</td>\n",
       "      <td>0.9968</td>\n",
       "      <td>1.03898</td>\n",
       "    </tr>\n",
       "    <tr>\n",
       "      <th>pH</th>\n",
       "      <td>3155.0</td>\n",
       "      <td>3.223201</td>\n",
       "      <td>0.161272</td>\n",
       "      <td>2.72000</td>\n",
       "      <td>3.11000</td>\n",
       "      <td>3.21000</td>\n",
       "      <td>3.3300</td>\n",
       "      <td>4.01000</td>\n",
       "    </tr>\n",
       "    <tr>\n",
       "      <th>sulphates</th>\n",
       "      <td>3155.0</td>\n",
       "      <td>0.534051</td>\n",
       "      <td>0.149149</td>\n",
       "      <td>0.22000</td>\n",
       "      <td>0.43000</td>\n",
       "      <td>0.51000</td>\n",
       "      <td>0.6000</td>\n",
       "      <td>1.95000</td>\n",
       "    </tr>\n",
       "    <tr>\n",
       "      <th>alcohol</th>\n",
       "      <td>3155.0</td>\n",
       "      <td>10.504466</td>\n",
       "      <td>1.154654</td>\n",
       "      <td>8.50000</td>\n",
       "      <td>9.50000</td>\n",
       "      <td>10.30000</td>\n",
       "      <td>11.3000</td>\n",
       "      <td>14.00000</td>\n",
       "    </tr>\n",
       "  </tbody>\n",
       "</table>\n",
       "</div>"
      ],
      "text/plain": [
       "                       count        mean        std      min       25%  \\\n",
       "fixed acidity         3155.0    7.221616   1.325297  3.80000   6.40000   \n",
       "volatile acidity      3155.0    0.338929   0.162476  0.08000   0.23000   \n",
       "citric acid           3155.0    0.321569   0.147970  0.00000   0.25000   \n",
       "residual sugar        3155.0    5.155911   4.639632  0.60000   1.80000   \n",
       "chlorides             3155.0    0.056976   0.036802  0.01200   0.03800   \n",
       "free sulfur dioxide   3155.0   30.388590  17.236784  1.00000  17.00000   \n",
       "total sulfur dioxide  3155.0  115.062282  56.706617  6.00000  75.00000   \n",
       "density               3155.0    0.994633   0.003005  0.98711   0.99232   \n",
       "pH                    3155.0    3.223201   0.161272  2.72000   3.11000   \n",
       "sulphates             3155.0    0.534051   0.149149  0.22000   0.43000   \n",
       "alcohol               3155.0   10.504466   1.154654  8.50000   9.50000   \n",
       "\n",
       "                            50%       75%        max  \n",
       "fixed acidity           7.00000    7.7000   15.60000  \n",
       "volatile acidity        0.29000    0.4000    1.24000  \n",
       "citric acid             0.31000    0.4000    1.66000  \n",
       "residual sugar          2.80000    7.6500   65.80000  \n",
       "chlorides               0.04700    0.0660    0.61100  \n",
       "free sulfur dioxide    28.00000   41.0000  131.00000  \n",
       "total sulfur dioxide  117.00000  156.0000  344.00000  \n",
       "density                 0.99481    0.9968    1.03898  \n",
       "pH                      3.21000    3.3300    4.01000  \n",
       "sulphates               0.51000    0.6000    1.95000  \n",
       "alcohol                10.30000   11.3000   14.00000  "
      ]
     },
     "execution_count": 17,
     "metadata": {},
     "output_type": "execute_result"
    }
   ],
   "source": [
    "train_stats"
   ]
  },
  {
   "cell_type": "code",
   "execution_count": 18,
   "metadata": {
    "colab": {},
    "colab_type": "code",
    "id": "Z_fs14XQqZVP"
   },
   "outputs": [],
   "source": [
    "def format_output(data):\n",
    "    is_red = data.pop('is_red')\n",
    "    is_red = np.array(is_red)\n",
    "    quality = data.pop('quality')\n",
    "    quality = np.array(quality)\n",
    "    return (quality, is_red)"
   ]
  },
  {
   "cell_type": "code",
   "execution_count": 19,
   "metadata": {
    "colab": {},
    "colab_type": "code",
    "deletable": false,
    "id": "8L3ZZe1fQicm",
    "nbgrader": {
     "cell_type": "code",
     "checksum": "7a86809e54895a816434c48dc903f55d",
     "grade": false,
     "grade_id": "cell-5c30fa2c2a354b0f",
     "locked": false,
     "schema_version": 3,
     "solution": true,
     "task": false
    }
   },
   "outputs": [],
   "source": [
    "# format the output of the train set\n",
    "train_Y = format_output(train)\n",
    "\n",
    "# format the output of the val set\n",
    "val_Y = format_output(val)\n",
    "    \n",
    "# format the output of the test set\n",
    "test_Y = format_output(test)"
   ]
  },
  {
   "cell_type": "code",
   "execution_count": 20,
   "metadata": {},
   "outputs": [
    {
     "data": {
      "text/html": [
       "<div>\n",
       "<style scoped>\n",
       "    .dataframe tbody tr th:only-of-type {\n",
       "        vertical-align: middle;\n",
       "    }\n",
       "\n",
       "    .dataframe tbody tr th {\n",
       "        vertical-align: top;\n",
       "    }\n",
       "\n",
       "    .dataframe thead th {\n",
       "        text-align: right;\n",
       "    }\n",
       "</style>\n",
       "<table border=\"1\" class=\"dataframe\">\n",
       "  <thead>\n",
       "    <tr style=\"text-align: right;\">\n",
       "      <th></th>\n",
       "      <th>fixed acidity</th>\n",
       "      <th>volatile acidity</th>\n",
       "      <th>citric acid</th>\n",
       "      <th>residual sugar</th>\n",
       "      <th>chlorides</th>\n",
       "      <th>free sulfur dioxide</th>\n",
       "      <th>total sulfur dioxide</th>\n",
       "      <th>density</th>\n",
       "      <th>pH</th>\n",
       "      <th>sulphates</th>\n",
       "      <th>alcohol</th>\n",
       "    </tr>\n",
       "  </thead>\n",
       "  <tbody>\n",
       "    <tr>\n",
       "      <th>225</th>\n",
       "      <td>7.5</td>\n",
       "      <td>0.65</td>\n",
       "      <td>0.18</td>\n",
       "      <td>7.0</td>\n",
       "      <td>0.088</td>\n",
       "      <td>27.0</td>\n",
       "      <td>94.0</td>\n",
       "      <td>0.99915</td>\n",
       "      <td>3.38</td>\n",
       "      <td>0.77</td>\n",
       "      <td>9.4</td>\n",
       "    </tr>\n",
       "    <tr>\n",
       "      <th>3557</th>\n",
       "      <td>6.3</td>\n",
       "      <td>0.27</td>\n",
       "      <td>0.29</td>\n",
       "      <td>12.2</td>\n",
       "      <td>0.044</td>\n",
       "      <td>59.0</td>\n",
       "      <td>196.0</td>\n",
       "      <td>0.99782</td>\n",
       "      <td>3.14</td>\n",
       "      <td>0.40</td>\n",
       "      <td>8.8</td>\n",
       "    </tr>\n",
       "    <tr>\n",
       "      <th>3825</th>\n",
       "      <td>8.8</td>\n",
       "      <td>0.27</td>\n",
       "      <td>0.25</td>\n",
       "      <td>5.0</td>\n",
       "      <td>0.024</td>\n",
       "      <td>52.0</td>\n",
       "      <td>99.0</td>\n",
       "      <td>0.99250</td>\n",
       "      <td>2.87</td>\n",
       "      <td>0.49</td>\n",
       "      <td>11.4</td>\n",
       "    </tr>\n",
       "    <tr>\n",
       "      <th>1740</th>\n",
       "      <td>6.4</td>\n",
       "      <td>0.45</td>\n",
       "      <td>0.07</td>\n",
       "      <td>1.1</td>\n",
       "      <td>0.030</td>\n",
       "      <td>10.0</td>\n",
       "      <td>131.0</td>\n",
       "      <td>0.99050</td>\n",
       "      <td>2.97</td>\n",
       "      <td>0.28</td>\n",
       "      <td>10.8</td>\n",
       "    </tr>\n",
       "    <tr>\n",
       "      <th>1221</th>\n",
       "      <td>7.2</td>\n",
       "      <td>0.53</td>\n",
       "      <td>0.13</td>\n",
       "      <td>2.0</td>\n",
       "      <td>0.058</td>\n",
       "      <td>18.0</td>\n",
       "      <td>22.0</td>\n",
       "      <td>0.99573</td>\n",
       "      <td>3.21</td>\n",
       "      <td>0.68</td>\n",
       "      <td>9.9</td>\n",
       "    </tr>\n",
       "  </tbody>\n",
       "</table>\n",
       "</div>"
      ],
      "text/plain": [
       "      fixed acidity  volatile acidity  citric acid  residual sugar  chlorides  \\\n",
       "225             7.5              0.65         0.18             7.0      0.088   \n",
       "3557            6.3              0.27         0.29            12.2      0.044   \n",
       "3825            8.8              0.27         0.25             5.0      0.024   \n",
       "1740            6.4              0.45         0.07             1.1      0.030   \n",
       "1221            7.2              0.53         0.13             2.0      0.058   \n",
       "\n",
       "      free sulfur dioxide  total sulfur dioxide  density    pH  sulphates  \\\n",
       "225                  27.0                  94.0  0.99915  3.38       0.77   \n",
       "3557                 59.0                 196.0  0.99782  3.14       0.40   \n",
       "3825                 52.0                  99.0  0.99250  2.87       0.49   \n",
       "1740                 10.0                 131.0  0.99050  2.97       0.28   \n",
       "1221                 18.0                  22.0  0.99573  3.21       0.68   \n",
       "\n",
       "      alcohol  \n",
       "225       9.4  \n",
       "3557      8.8  \n",
       "3825     11.4  \n",
       "1740     10.8  \n",
       "1221      9.9  "
      ]
     },
     "execution_count": 20,
     "metadata": {},
     "output_type": "execute_result"
    }
   ],
   "source": [
    "train.head()"
   ]
  },
  {
   "cell_type": "code",
   "execution_count": 21,
   "metadata": {
    "colab": {},
    "colab_type": "code",
    "id": "WWiZPAHCLjUs"
   },
   "outputs": [],
   "source": [
    "def norm(x):\n",
    "    return (x - train_stats['mean']) / train_stats['std']"
   ]
  },
  {
   "cell_type": "code",
   "execution_count": 22,
   "metadata": {
    "colab": {},
    "colab_type": "code",
    "deletable": false,
    "id": "JEaOi2I2Lk69",
    "nbgrader": {
     "cell_type": "code",
     "checksum": "6bc0cdcb563d192f271067aa3373ff32",
     "grade": false,
     "grade_id": "cell-d8416d975c371095",
     "locked": false,
     "schema_version": 3,
     "solution": true,
     "task": false
    }
   },
   "outputs": [],
   "source": [
    "# normalize the train set\n",
    "norm_train_X = norm(train)\n",
    "    \n",
    "# normalize the val set\n",
    "norm_val_X = norm(val)\n",
    "    \n",
    "# normalize the test set\n",
    "norm_test_X = norm(test)"
   ]
  },
  {
   "cell_type": "code",
   "execution_count": 23,
   "metadata": {
    "colab": {},
    "colab_type": "code",
    "deletable": false,
    "id": "Rhcns3oTFkM6",
    "nbgrader": {
     "cell_type": "code",
     "checksum": "74b031247e569526552bf13a034a1c07",
     "grade": false,
     "grade_id": "cell-73fceedad1fe351c",
     "locked": false,
     "schema_version": 3,
     "solution": true,
     "task": false
    }
   },
   "outputs": [],
   "source": [
    "def base_model(inputs):\n",
    "    \n",
    "    # connect a Dense layer with 128 neurons and a relu activation\n",
    "    x = Dense(units='128', activation='relu')(inputs)\n",
    "    \n",
    "    # connect another Dense layer with 128 neurons and a relu activation\n",
    "    x = Dense(units='128', activation='relu')(x)\n",
    "    return x\n",
    "  "
   ]
  },
  {
   "cell_type": "code",
   "execution_count": 24,
   "metadata": {
    "colab": {},
    "colab_type": "code",
    "deletable": false,
    "id": "n5UGF8PMVLPt",
    "nbgrader": {
     "cell_type": "code",
     "checksum": "76d35b90d20cdcbb22986cd8211057de",
     "grade": false,
     "grade_id": "cell-19e285f482f021fb",
     "locked": false,
     "schema_version": 3,
     "solution": true,
     "task": false
    }
   },
   "outputs": [],
   "source": [
    "def final_model(inputs):\n",
    "    \n",
    "    # get the base model\n",
    "    x = base_model(inputs)\n",
    "\n",
    "    # connect the output Dense layer for regression\n",
    "    wine_quality = Dense(units='1', name='wine_quality')(x)\n",
    "\n",
    "    # connect the output Dense layer for classification. this will use a sigmoid activation.\n",
    "    wine_type = Dense(units='1', activation= 'sigmoid', name='wine_type')(x)\n",
    "\n",
    "    # define the model using the input and output layers\n",
    "    model = Model(inputs= inputs, outputs= (wine_quality, wine_type))\n",
    "\n",
    "    return model"
   ]
  },
  {
   "cell_type": "code",
   "execution_count": 25,
   "metadata": {
    "colab": {},
    "colab_type": "code",
    "deletable": false,
    "id": "LK11duUbUjmh",
    "nbgrader": {
     "cell_type": "code",
     "checksum": "22f45067ca69eb2ccadb43874dbcc27b",
     "grade": false,
     "grade_id": "cell-81afdc4dcca51d5e",
     "locked": false,
     "schema_version": 3,
     "solution": true,
     "task": false
    }
   },
   "outputs": [
    {
     "name": "stderr",
     "output_type": "stream",
     "text": [
      "/opt/anaconda3/lib/python3.8/site-packages/keras/optimizers/optimizer_v2/rmsprop.py:135: UserWarning: The `lr` argument is deprecated, use `learning_rate` instead.\n",
      "  super(RMSprop, self).__init__(name, **kwargs)\n"
     ]
    }
   ],
   "source": [
    "inputs = tf.keras.layers.Input(shape=(11,))\n",
    "rms = tf.keras.optimizers.RMSprop(lr=0.0001)\n",
    "model = final_model(inputs)\n",
    "\n",
    "model.compile(optimizer=rms, \n",
    "              loss = {'wine_type' : 'binary_crossentropy',\n",
    "                      'wine_quality' : 'mse'\n",
    "                     },\n",
    "              metrics = {'wine_type' : 'accuracy',\n",
    "                         'wine_quality': tf.keras.metrics.RootMeanSquaredError()\n",
    "                       }\n",
    "             )\n"
   ]
  },
  {
   "cell_type": "code",
   "execution_count": 26,
   "metadata": {
    "colab": {},
    "colab_type": "code",
    "deletable": false,
    "id": "_eiZkle4XwiY",
    "nbgrader": {
     "cell_type": "code",
     "checksum": "d1a4565296017a0611c6f2de675f96cf",
     "grade": false,
     "grade_id": "cell-0bb56262896f6680",
     "locked": false,
     "schema_version": 3,
     "solution": true,
     "task": false
    }
   },
   "outputs": [
    {
     "name": "stdout",
     "output_type": "stream",
     "text": [
      "Epoch 1/40\n",
      "99/99 [==============================] - 1s 4ms/step - loss: 25.6562 - wine_quality_loss: 24.8462 - wine_type_loss: 0.8101 - wine_quality_root_mean_squared_error: 4.9846 - wine_type_accuracy: 0.2596 - val_loss: 18.4888 - val_wine_quality_loss: 17.6782 - val_wine_type_loss: 0.8105 - val_wine_quality_root_mean_squared_error: 4.2046 - val_wine_type_accuracy: 0.2700\n",
      "Epoch 2/40\n",
      "99/99 [==============================] - 0s 2ms/step - loss: 12.3696 - wine_quality_loss: 11.5721 - wine_type_loss: 0.7975 - wine_quality_root_mean_squared_error: 3.4018 - wine_type_accuracy: 0.2647 - val_loss: 7.1853 - val_wine_quality_loss: 6.4159 - val_wine_type_loss: 0.7694 - val_wine_quality_root_mean_squared_error: 2.5330 - val_wine_type_accuracy: 0.2839\n",
      "Epoch 3/40\n",
      "99/99 [==============================] - 0s 2ms/step - loss: 4.5572 - wine_quality_loss: 3.8476 - wine_type_loss: 0.7096 - wine_quality_root_mean_squared_error: 1.9615 - wine_type_accuracy: 0.3886 - val_loss: 3.0193 - val_wine_quality_loss: 2.3945 - val_wine_type_loss: 0.6249 - val_wine_quality_root_mean_squared_error: 1.5474 - val_wine_type_accuracy: 0.7338\n",
      "Epoch 4/40\n",
      "99/99 [==============================] - 0s 2ms/step - loss: 2.6785 - wine_quality_loss: 2.1619 - wine_type_loss: 0.5166 - wine_quality_root_mean_squared_error: 1.4703 - wine_type_accuracy: 0.9284 - val_loss: 2.3661 - val_wine_quality_loss: 1.9361 - val_wine_type_loss: 0.4300 - val_wine_quality_root_mean_squared_error: 1.3914 - val_wine_type_accuracy: 0.9569\n",
      "Epoch 5/40\n",
      "99/99 [==============================] - 0s 2ms/step - loss: 2.2319 - wine_quality_loss: 1.8740 - wine_type_loss: 0.3580 - wine_quality_root_mean_squared_error: 1.3689 - wine_type_accuracy: 0.9588 - val_loss: 2.0342 - val_wine_quality_loss: 1.7303 - val_wine_type_loss: 0.3039 - val_wine_quality_root_mean_squared_error: 1.3154 - val_wine_type_accuracy: 0.9721\n",
      "Epoch 6/40\n",
      "99/99 [==============================] - 0s 2ms/step - loss: 1.9391 - wine_quality_loss: 1.6848 - wine_type_loss: 0.2543 - wine_quality_root_mean_squared_error: 1.2980 - wine_type_accuracy: 0.9727 - val_loss: 1.7932 - val_wine_quality_loss: 1.5745 - val_wine_type_loss: 0.2187 - val_wine_quality_root_mean_squared_error: 1.2548 - val_wine_type_accuracy: 0.9785\n",
      "Epoch 7/40\n",
      "99/99 [==============================] - 0s 2ms/step - loss: 1.7273 - wine_quality_loss: 1.5412 - wine_type_loss: 0.1861 - wine_quality_root_mean_squared_error: 1.2415 - wine_type_accuracy: 0.9823 - val_loss: 1.6177 - val_wine_quality_loss: 1.4558 - val_wine_type_loss: 0.1619 - val_wine_quality_root_mean_squared_error: 1.2066 - val_wine_type_accuracy: 0.9873\n",
      "Epoch 8/40\n",
      "99/99 [==============================] - 0s 2ms/step - loss: 1.5611 - wine_quality_loss: 1.4206 - wine_type_loss: 0.1405 - wine_quality_root_mean_squared_error: 1.1919 - wine_type_accuracy: 0.9886 - val_loss: 1.4660 - val_wine_quality_loss: 1.3407 - val_wine_type_loss: 0.1253 - val_wine_quality_root_mean_squared_error: 1.1579 - val_wine_type_accuracy: 0.9886\n",
      "Epoch 9/40\n",
      "99/99 [==============================] - 0s 2ms/step - loss: 1.4253 - wine_quality_loss: 1.3150 - wine_type_loss: 0.1103 - wine_quality_root_mean_squared_error: 1.1467 - wine_type_accuracy: 0.9892 - val_loss: 1.3634 - val_wine_quality_loss: 1.2633 - val_wine_type_loss: 0.1001 - val_wine_quality_root_mean_squared_error: 1.1240 - val_wine_type_accuracy: 0.9886\n",
      "Epoch 10/40\n",
      "99/99 [==============================] - 0s 2ms/step - loss: 1.3246 - wine_quality_loss: 1.2343 - wine_type_loss: 0.0903 - wine_quality_root_mean_squared_error: 1.1110 - wine_type_accuracy: 0.9899 - val_loss: 1.2603 - val_wine_quality_loss: 1.1773 - val_wine_type_loss: 0.0831 - val_wine_quality_root_mean_squared_error: 1.0850 - val_wine_type_accuracy: 0.9886\n",
      "Epoch 11/40\n",
      "99/99 [==============================] - 0s 2ms/step - loss: 1.2366 - wine_quality_loss: 1.1604 - wine_type_loss: 0.0762 - wine_quality_root_mean_squared_error: 1.0772 - wine_type_accuracy: 0.9905 - val_loss: 1.1841 - val_wine_quality_loss: 1.1130 - val_wine_type_loss: 0.0711 - val_wine_quality_root_mean_squared_error: 1.0550 - val_wine_type_accuracy: 0.9886\n",
      "Epoch 12/40\n",
      "99/99 [==============================] - 0s 2ms/step - loss: 1.1536 - wine_quality_loss: 1.0876 - wine_type_loss: 0.0661 - wine_quality_root_mean_squared_error: 1.0429 - wine_type_accuracy: 0.9911 - val_loss: 1.1007 - val_wine_quality_loss: 1.0386 - val_wine_type_loss: 0.0621 - val_wine_quality_root_mean_squared_error: 1.0191 - val_wine_type_accuracy: 0.9899\n",
      "Epoch 13/40\n",
      "99/99 [==============================] - 0s 2ms/step - loss: 1.0809 - wine_quality_loss: 1.0224 - wine_type_loss: 0.0584 - wine_quality_root_mean_squared_error: 1.0112 - wine_type_accuracy: 0.9914 - val_loss: 1.0308 - val_wine_quality_loss: 0.9750 - val_wine_type_loss: 0.0558 - val_wine_quality_root_mean_squared_error: 0.9874 - val_wine_type_accuracy: 0.9899\n",
      "Epoch 14/40\n",
      "99/99 [==============================] - 0s 1ms/step - loss: 1.0186 - wine_quality_loss: 0.9655 - wine_type_loss: 0.0530 - wine_quality_root_mean_squared_error: 0.9826 - wine_type_accuracy: 0.9914 - val_loss: 0.9713 - val_wine_quality_loss: 0.9202 - val_wine_type_loss: 0.0511 - val_wine_quality_root_mean_squared_error: 0.9593 - val_wine_type_accuracy: 0.9911\n",
      "Epoch 15/40\n",
      "99/99 [==============================] - 0s 2ms/step - loss: 0.9627 - wine_quality_loss: 0.9138 - wine_type_loss: 0.0489 - wine_quality_root_mean_squared_error: 0.9559 - wine_type_accuracy: 0.9914 - val_loss: 0.9186 - val_wine_quality_loss: 0.8713 - val_wine_type_loss: 0.0473 - val_wine_quality_root_mean_squared_error: 0.9334 - val_wine_type_accuracy: 0.9911\n",
      "Epoch 16/40\n",
      "99/99 [==============================] - 0s 2ms/step - loss: 0.9077 - wine_quality_loss: 0.8621 - wine_type_loss: 0.0457 - wine_quality_root_mean_squared_error: 0.9285 - wine_type_accuracy: 0.9918 - val_loss: 0.8624 - val_wine_quality_loss: 0.8177 - val_wine_type_loss: 0.0447 - val_wine_quality_root_mean_squared_error: 0.9043 - val_wine_type_accuracy: 0.9911\n",
      "Epoch 17/40\n",
      "99/99 [==============================] - 0s 2ms/step - loss: 0.8597 - wine_quality_loss: 0.8165 - wine_type_loss: 0.0432 - wine_quality_root_mean_squared_error: 0.9036 - wine_type_accuracy: 0.9921 - val_loss: 0.8214 - val_wine_quality_loss: 0.7791 - val_wine_type_loss: 0.0423 - val_wine_quality_root_mean_squared_error: 0.8827 - val_wine_type_accuracy: 0.9911\n",
      "Epoch 18/40\n",
      "99/99 [==============================] - 0s 2ms/step - loss: 0.8164 - wine_quality_loss: 0.7754 - wine_type_loss: 0.0411 - wine_quality_root_mean_squared_error: 0.8806 - wine_type_accuracy: 0.9921 - val_loss: 0.7785 - val_wine_quality_loss: 0.7381 - val_wine_type_loss: 0.0404 - val_wine_quality_root_mean_squared_error: 0.8591 - val_wine_type_accuracy: 0.9924\n",
      "Epoch 19/40\n",
      "99/99 [==============================] - 0s 2ms/step - loss: 0.7735 - wine_quality_loss: 0.7342 - wine_type_loss: 0.0393 - wine_quality_root_mean_squared_error: 0.8568 - wine_type_accuracy: 0.9924 - val_loss: 0.7312 - val_wine_quality_loss: 0.6922 - val_wine_type_loss: 0.0390 - val_wine_quality_root_mean_squared_error: 0.8320 - val_wine_type_accuracy: 0.9924\n",
      "Epoch 20/40\n",
      "99/99 [==============================] - 0s 2ms/step - loss: 0.7361 - wine_quality_loss: 0.6982 - wine_type_loss: 0.0379 - wine_quality_root_mean_squared_error: 0.8356 - wine_type_accuracy: 0.9921 - val_loss: 0.6934 - val_wine_quality_loss: 0.6558 - val_wine_type_loss: 0.0376 - val_wine_quality_root_mean_squared_error: 0.8098 - val_wine_type_accuracy: 0.9937\n",
      "Epoch 21/40\n",
      "99/99 [==============================] - 0s 2ms/step - loss: 0.6994 - wine_quality_loss: 0.6628 - wine_type_loss: 0.0366 - wine_quality_root_mean_squared_error: 0.8141 - wine_type_accuracy: 0.9921 - val_loss: 0.6598 - val_wine_quality_loss: 0.6232 - val_wine_type_loss: 0.0366 - val_wine_quality_root_mean_squared_error: 0.7894 - val_wine_type_accuracy: 0.9937\n",
      "Epoch 22/40\n",
      "99/99 [==============================] - 0s 2ms/step - loss: 0.6671 - wine_quality_loss: 0.6316 - wine_type_loss: 0.0355 - wine_quality_root_mean_squared_error: 0.7947 - wine_type_accuracy: 0.9930 - val_loss: 0.6273 - val_wine_quality_loss: 0.5915 - val_wine_type_loss: 0.0358 - val_wine_quality_root_mean_squared_error: 0.7691 - val_wine_type_accuracy: 0.9937\n"
     ]
    },
    {
     "name": "stdout",
     "output_type": "stream",
     "text": [
      "Epoch 23/40\n",
      "99/99 [==============================] - 0s 1ms/step - loss: 0.6324 - wine_quality_loss: 0.5978 - wine_type_loss: 0.0346 - wine_quality_root_mean_squared_error: 0.7731 - wine_type_accuracy: 0.9930 - val_loss: 0.5988 - val_wine_quality_loss: 0.5640 - val_wine_type_loss: 0.0348 - val_wine_quality_root_mean_squared_error: 0.7510 - val_wine_type_accuracy: 0.9937\n",
      "Epoch 24/40\n",
      "99/99 [==============================] - 0s 2ms/step - loss: 0.6067 - wine_quality_loss: 0.5730 - wine_type_loss: 0.0337 - wine_quality_root_mean_squared_error: 0.7570 - wine_type_accuracy: 0.9933 - val_loss: 0.5678 - val_wine_quality_loss: 0.5335 - val_wine_type_loss: 0.0343 - val_wine_quality_root_mean_squared_error: 0.7304 - val_wine_type_accuracy: 0.9937\n",
      "Epoch 25/40\n",
      "99/99 [==============================] - 0s 2ms/step - loss: 0.5806 - wine_quality_loss: 0.5477 - wine_type_loss: 0.0329 - wine_quality_root_mean_squared_error: 0.7400 - wine_type_accuracy: 0.9933 - val_loss: 0.5453 - val_wine_quality_loss: 0.5114 - val_wine_type_loss: 0.0339 - val_wine_quality_root_mean_squared_error: 0.7151 - val_wine_type_accuracy: 0.9937\n",
      "Epoch 26/40\n",
      "99/99 [==============================] - 0s 2ms/step - loss: 0.5569 - wine_quality_loss: 0.5246 - wine_type_loss: 0.0323 - wine_quality_root_mean_squared_error: 0.7243 - wine_type_accuracy: 0.9933 - val_loss: 0.5252 - val_wine_quality_loss: 0.4918 - val_wine_type_loss: 0.0334 - val_wine_quality_root_mean_squared_error: 0.7013 - val_wine_type_accuracy: 0.9937\n",
      "Epoch 27/40\n",
      "99/99 [==============================] - 0s 2ms/step - loss: 0.5356 - wine_quality_loss: 0.5037 - wine_type_loss: 0.0318 - wine_quality_root_mean_squared_error: 0.7097 - wine_type_accuracy: 0.9930 - val_loss: 0.5151 - val_wine_quality_loss: 0.4821 - val_wine_type_loss: 0.0330 - val_wine_quality_root_mean_squared_error: 0.6943 - val_wine_type_accuracy: 0.9937\n",
      "Epoch 28/40\n",
      "99/99 [==============================] - 0s 2ms/step - loss: 0.5170 - wine_quality_loss: 0.4858 - wine_type_loss: 0.0312 - wine_quality_root_mean_squared_error: 0.6970 - wine_type_accuracy: 0.9933 - val_loss: 0.4854 - val_wine_quality_loss: 0.4527 - val_wine_type_loss: 0.0327 - val_wine_quality_root_mean_squared_error: 0.6728 - val_wine_type_accuracy: 0.9949\n",
      "Epoch 29/40\n",
      "99/99 [==============================] - 0s 1ms/step - loss: 0.4981 - wine_quality_loss: 0.4673 - wine_type_loss: 0.0308 - wine_quality_root_mean_squared_error: 0.6836 - wine_type_accuracy: 0.9933 - val_loss: 0.4768 - val_wine_quality_loss: 0.4444 - val_wine_type_loss: 0.0324 - val_wine_quality_root_mean_squared_error: 0.6666 - val_wine_type_accuracy: 0.9949\n",
      "Epoch 30/40\n",
      "99/99 [==============================] - 0s 1ms/step - loss: 0.4817 - wine_quality_loss: 0.4514 - wine_type_loss: 0.0303 - wine_quality_root_mean_squared_error: 0.6719 - wine_type_accuracy: 0.9933 - val_loss: 0.4605 - val_wine_quality_loss: 0.4285 - val_wine_type_loss: 0.0319 - val_wine_quality_root_mean_squared_error: 0.6546 - val_wine_type_accuracy: 0.9949\n",
      "Epoch 31/40\n",
      "99/99 [==============================] - 0s 2ms/step - loss: 0.4662 - wine_quality_loss: 0.4363 - wine_type_loss: 0.0298 - wine_quality_root_mean_squared_error: 0.6605 - wine_type_accuracy: 0.9937 - val_loss: 0.4533 - val_wine_quality_loss: 0.4215 - val_wine_type_loss: 0.0318 - val_wine_quality_root_mean_squared_error: 0.6492 - val_wine_type_accuracy: 0.9949\n",
      "Epoch 32/40\n",
      "99/99 [==============================] - 0s 2ms/step - loss: 0.4524 - wine_quality_loss: 0.4230 - wine_type_loss: 0.0295 - wine_quality_root_mean_squared_error: 0.6504 - wine_type_accuracy: 0.9933 - val_loss: 0.4308 - val_wine_quality_loss: 0.3994 - val_wine_type_loss: 0.0314 - val_wine_quality_root_mean_squared_error: 0.6320 - val_wine_type_accuracy: 0.9949\n",
      "Epoch 33/40\n",
      "99/99 [==============================] - 0s 2ms/step - loss: 0.4413 - wine_quality_loss: 0.4122 - wine_type_loss: 0.0291 - wine_quality_root_mean_squared_error: 0.6420 - wine_type_accuracy: 0.9933 - val_loss: 0.4238 - val_wine_quality_loss: 0.3926 - val_wine_type_loss: 0.0312 - val_wine_quality_root_mean_squared_error: 0.6266 - val_wine_type_accuracy: 0.9949\n",
      "Epoch 34/40\n",
      "99/99 [==============================] - 0s 1ms/step - loss: 0.4295 - wine_quality_loss: 0.4007 - wine_type_loss: 0.0288 - wine_quality_root_mean_squared_error: 0.6330 - wine_type_accuracy: 0.9940 - val_loss: 0.4140 - val_wine_quality_loss: 0.3829 - val_wine_type_loss: 0.0311 - val_wine_quality_root_mean_squared_error: 0.6188 - val_wine_type_accuracy: 0.9949\n",
      "Epoch 35/40\n",
      "99/99 [==============================] - 0s 1ms/step - loss: 0.4203 - wine_quality_loss: 0.3918 - wine_type_loss: 0.0285 - wine_quality_root_mean_squared_error: 0.6259 - wine_type_accuracy: 0.9937 - val_loss: 0.4059 - val_wine_quality_loss: 0.3751 - val_wine_type_loss: 0.0308 - val_wine_quality_root_mean_squared_error: 0.6125 - val_wine_type_accuracy: 0.9949\n",
      "Epoch 36/40\n",
      "99/99 [==============================] - 0s 1ms/step - loss: 0.4106 - wine_quality_loss: 0.3824 - wine_type_loss: 0.0282 - wine_quality_root_mean_squared_error: 0.6184 - wine_type_accuracy: 0.9940 - val_loss: 0.3984 - val_wine_quality_loss: 0.3679 - val_wine_type_loss: 0.0305 - val_wine_quality_root_mean_squared_error: 0.6065 - val_wine_type_accuracy: 0.9949\n",
      "Epoch 37/40\n",
      "99/99 [==============================] - 0s 1ms/step - loss: 0.4019 - wine_quality_loss: 0.3740 - wine_type_loss: 0.0279 - wine_quality_root_mean_squared_error: 0.6116 - wine_type_accuracy: 0.9937 - val_loss: 0.3948 - val_wine_quality_loss: 0.3644 - val_wine_type_loss: 0.0304 - val_wine_quality_root_mean_squared_error: 0.6037 - val_wine_type_accuracy: 0.9949\n",
      "Epoch 38/40\n",
      "99/99 [==============================] - 0s 1ms/step - loss: 0.3956 - wine_quality_loss: 0.3679 - wine_type_loss: 0.0277 - wine_quality_root_mean_squared_error: 0.6065 - wine_type_accuracy: 0.9937 - val_loss: 0.3881 - val_wine_quality_loss: 0.3579 - val_wine_type_loss: 0.0302 - val_wine_quality_root_mean_squared_error: 0.5982 - val_wine_type_accuracy: 0.9949\n",
      "Epoch 39/40\n",
      "99/99 [==============================] - 0s 1ms/step - loss: 0.3888 - wine_quality_loss: 0.3614 - wine_type_loss: 0.0274 - wine_quality_root_mean_squared_error: 0.6011 - wine_type_accuracy: 0.9943 - val_loss: 0.3784 - val_wine_quality_loss: 0.3483 - val_wine_type_loss: 0.0301 - val_wine_quality_root_mean_squared_error: 0.5902 - val_wine_type_accuracy: 0.9949\n",
      "Epoch 40/40\n",
      "99/99 [==============================] - 0s 1ms/step - loss: 0.3834 - wine_quality_loss: 0.3562 - wine_type_loss: 0.0272 - wine_quality_root_mean_squared_error: 0.5969 - wine_type_accuracy: 0.9946 - val_loss: 0.3777 - val_wine_quality_loss: 0.3477 - val_wine_type_loss: 0.0300 - val_wine_quality_root_mean_squared_error: 0.5897 - val_wine_type_accuracy: 0.9949\n"
     ]
    }
   ],
   "source": [
    "history = model.fit(norm_train_X, train_Y,\n",
    "                    epochs = 40, validation_data=(norm_val_X, val_Y))"
   ]
  },
  {
   "cell_type": "code",
   "execution_count": 27,
   "metadata": {
    "colab": {},
    "colab_type": "code",
    "id": "tBq9PEeAaW-Y"
   },
   "outputs": [
    {
     "name": "stdout",
     "output_type": "stream",
     "text": [
      "31/31 [==============================] - 0s 856us/step\n"
     ]
    }
   ],
   "source": [
    "predictions = model.predict(norm_test_X)\n",
    "quality_pred = predictions[0]\n",
    "type_pred = predictions[1]"
   ]
  },
  {
   "cell_type": "code",
   "execution_count": 28,
   "metadata": {
    "colab": {},
    "colab_type": "code",
    "id": "YLhgTR4xTIxj"
   },
   "outputs": [
    {
     "name": "stdout",
     "output_type": "stream",
     "text": [
      "[5.714514]\n"
     ]
    }
   ],
   "source": [
    "print(quality_pred[0])"
   ]
  },
  {
   "cell_type": "code",
   "execution_count": 29,
   "metadata": {
    "colab": {},
    "colab_type": "code",
    "id": "MPi-eYfGTUXi"
   },
   "outputs": [
    {
     "name": "stdout",
     "output_type": "stream",
     "text": [
      "[0.00135434]\n",
      "[0.9998766]\n"
     ]
    }
   ],
   "source": [
    "print(type_pred[0])\n",
    "print(type_pred[944])\n"
   ]
  },
  {
   "cell_type": "code",
   "execution_count": 30,
   "metadata": {
    "colab": {},
    "colab_type": "code",
    "id": "62gEOFUhn6aQ"
   },
   "outputs": [],
   "source": [
    "def plot_metrics(metric_name, title, ylim=5):\n",
    "    plt.title(title)\n",
    "    plt.ylim(0,ylim)\n",
    "    plt.plot(history.history[metric_name],color='blue',label=metric_name)\n",
    "    plt.plot(history.history['val_' + metric_name],color='green',label='val_' + metric_name)\n"
   ]
  },
  {
   "cell_type": "code",
   "execution_count": 31,
   "metadata": {
    "colab": {},
    "colab_type": "code",
    "id": "6rfgSx7uz5dj"
   },
   "outputs": [],
   "source": [
    "def plot_confusion_matrix(y_true, y_pred, title='', labels=[0,1]):\n",
    "    cm = confusion_matrix(y_true, y_pred)\n",
    "    fig = plt.figure()\n",
    "    ax = fig.add_subplot(111)\n",
    "    cax = ax.matshow(cm)\n",
    "    plt.title('Confusion matrix of the classifier')\n",
    "    fig.colorbar(cax)\n",
    "    ax.set_xticklabels([''] + labels)\n",
    "    ax.set_yticklabels([''] + labels)\n",
    "    plt.xlabel('Predicted')\n",
    "    plt.ylabel('True')\n",
    "    fmt = 'd'\n",
    "    thresh = cm.max() / 2.\n",
    "    for i, j in itertools.product(range(cm.shape[0]), range(cm.shape[1])):\n",
    "          plt.text(j, i, format(cm[i, j], fmt),\n",
    "                  horizontalalignment=\"center\",\n",
    "                  color=\"black\" if cm[i, j] > thresh else \"white\")\n",
    "    plt.show()"
   ]
  },
  {
   "cell_type": "code",
   "execution_count": 32,
   "metadata": {
    "colab": {},
    "colab_type": "code",
    "id": "dfVLIqi017Vf"
   },
   "outputs": [],
   "source": [
    "def plot_diff(y_true, y_pred, title = '' ):\n",
    "    plt.scatter(y_true, y_pred)\n",
    "    plt.title(title)\n",
    "    plt.xlabel('True Values')\n",
    "    plt.ylabel('Predictions')\n",
    "    plt.axis('equal')\n",
    "    plt.axis('square')\n",
    "    plt.plot([-100, 100], [-100, 100])\n",
    "    return plt"
   ]
  },
  {
   "cell_type": "code",
   "execution_count": 33,
   "metadata": {
    "colab": {},
    "colab_type": "code",
    "id": "f3MwZ5J1pOfj"
   },
   "outputs": [
    {
     "data": {
      "image/png": "[encoded data removed]",
      "text/plain": [
       "<Figure size 432x288 with 1 Axes>"
      ]
     },
     "metadata": {
      "needs_background": "light"
     },
     "output_type": "display_data"
    }
   ],
   "source": [
    "plot_metrics('wine_quality_root_mean_squared_error', 'RMSE', ylim=2)"
   ]
  },
  {
   "cell_type": "code",
   "execution_count": 34,
   "metadata": {
    "colab": {},
    "colab_type": "code",
    "id": "QIAxEezCppnd"
   },
   "outputs": [
    {
     "data": {
      "image/png": "[encoded data removed]",
      "text/plain": [
       "<Figure size 432x288 with 1 Axes>"
      ]
     },
     "metadata": {
      "needs_background": "light"
     },
     "output_type": "display_data"
    }
   ],
   "source": [
    "plot_metrics('wine_type_loss', 'Wine Type Loss', ylim=0.2)"
   ]
  },
  {
   "cell_type": "code",
   "execution_count": 35,
   "metadata": {
    "colab": {},
    "colab_type": "code",
    "id": "C3hvTYxIaf3n"
   },
   "outputs": [
    {
     "name": "stderr",
     "output_type": "stream",
     "text": [
      "<ipython-input-31-47bb6e202cb0>:8: UserWarning: FixedFormatter should only be used together with FixedLocator\n",
      "  ax.set_xticklabels([''] + labels)\n",
      "<ipython-input-31-47bb6e202cb0>:9: UserWarning: FixedFormatter should only be used together with FixedLocator\n",
      "  ax.set_yticklabels([''] + labels)\n"
     ]
    },
    {
     "data": {
      "image/png": "[encoded data removed]",
      "text/plain": [
       "<Figure size 432x288 with 2 Axes>"
      ]
     },
     "metadata": {
      "needs_background": "light"
     },
     "output_type": "display_data"
    }
   ],
   "source": [
    "plot_confusion_matrix(test_Y[1], np.round(type_pred), title='Wine Type', labels = [0, 1])"
   ]
  },
  {
   "cell_type": "code",
   "execution_count": 36,
   "metadata": {
    "colab": {},
    "colab_type": "code",
    "id": "GW91ym8P2I5y"
   },
   "outputs": [
    {
     "data": {
      "image/png": "[encoded data removed]",
      "text/plain": [
       "<Figure size 432x288 with 1 Axes>"
      ]
     },
     "metadata": {
      "needs_background": "light"
     },
     "output_type": "display_data"
    }
   ],
   "source": [
    "scatter_plot = plot_diff(test_Y[0], quality_pred, title='Type')"
   ]
  }
 ],
 "metadata": {
  "colab": {
   "include_colab_link": true,
   "name": "exercise-answer.ipynb",
   "provenance": []
  },
  "kernelspec": {
   "display_name": "Python 3",
   "language": "python",
   "name": "python3"
  },
  "language_info": {
   "codemirror_mode": {
    "name": "ipython",
    "version": 3
   },
   "file_extension": ".py",
   "mimetype": "text/x-python",
   "name": "python",
   "nbconvert_exporter": "python",
   "pygments_lexer": "ipython3",
   "version": "3.8.8"
  }
 },
 "nbformat": 4,
 "nbformat_minor": 4
}
